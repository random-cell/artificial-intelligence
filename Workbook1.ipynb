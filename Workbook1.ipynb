{
 "cells": [
  {
   "cell_type": "code",
   "execution_count": 1,
   "id": "72348e08",
   "metadata": {},
   "outputs": [
    {
     "name": "stdout",
     "output_type": "stream",
     "text": [
      "39.4 | <class 'float'> \n",
      " None | <class 'NoneType'> \n",
      " ('a', 5, 12.345, (2, 'b')) | <class 'tuple'> \n",
      " [['Антонова Антонина', 34, 'Ж'], ['Борисов Борис', 26, 'М']] | <class 'list'> \n",
      " {1, 2, 'title', 'content'} | <class 'set'>\n"
     ]
    }
   ],
   "source": [
    "x = 3+5.2*7\n",
    "y = None \n",
    "z = 'a', 5, 12.345,(2,'b')\n",
    "df = [['Антонова Антонина', 34, 'Ж'],['Борисов Борис',26, 'М']]\n",
    "A = {1, 'title', 2, 'content'}\n",
    "print(x,'|', type(x), '\\n', y,'|', type(y), '\\n',\n",
    "     z, '|',type(z), '\\n', df,'|', type(df), '\\n', A, '|', type(A))"
   ]
  },
  {
   "cell_type": "code",
   "execution_count": 2,
   "id": "8cac9a09",
   "metadata": {},
   "outputs": [
    {
     "name": "stdout",
     "output_type": "stream",
     "text": [
      "True | <class 'bool'> \n",
      " {8, 1, 3, 7} | <class 'set'> \n",
      " {'apple', 2, 4, 5, 10} | <class 'set'> \n",
      " set() | <class 'set'> \n",
      " ('Антонова Антонина', 34, 'Ж') | <class 'tuple'> \n",
      " type | <class 'str'> \n",
      " [1, 'title', 2, 'content'] | <class 'list'>\n"
     ]
    }
   ],
   "source": [
    "X = 5 >=2\n",
    "A = {1,3,7,8}\n",
    "B = {2,4,5,10, 'apple'}\n",
    "C = A & B\n",
    "df = 'Антонова Антонина', 34, 'Ж'\n",
    "Z = 'type'\n",
    "D = [1,'title',2,'content']\n",
    "\n",
    "print(X,'|', type(X), '\\n', A,'|', type(A), '\\n',\n",
    "     B, '|',type(B), '\\n', C,'|', type(C), '\\n', df, '|', type(df), \n",
    "      '\\n', Z,'|', type(Z), '\\n', D,'|', type(D))\n"
   ]
  },
  {
   "cell_type": "code",
   "execution_count": 4,
   "id": "d0a51474",
   "metadata": {},
   "outputs": [
    {
     "name": "stdout",
     "output_type": "stream",
     "text": [
      "x положительный\n"
     ]
    }
   ],
   "source": [
    "x = 125\n",
    "if x < 0 : \n",
    "    print(\"x отрицательный\")\n",
    "elif x == 0:\n",
    "    print(\"x равен нулю\")\n",
    "else:\n",
    "    print(\"x положительный\")"
   ]
  },
  {
   "cell_type": "code",
   "execution_count": 7,
   "id": "db131983",
   "metadata": {},
   "outputs": [
    {
     "name": "stdout",
     "output_type": "stream",
     "text": [
      "[-5,5]\n"
     ]
    }
   ],
   "source": [
    "x = 3\n",
    "if (x <= -5):\n",
    "    print(\"-Infinity, -5\")\n",
    "elif (x>= -5) & (x <=5):\n",
    "    print(\"[\"\"-5,5\"\"]\")\n",
    "else:\n",
    "    print( \"(\"\"5, +infinity\"\")\")"
   ]
  },
  {
   "cell_type": "code",
   "execution_count": null,
   "id": "d8aa6c3b",
   "metadata": {},
   "outputs": [],
   "source": [
    "x = 1\n",
    "while x <= 10:\n",
    "    print(x)\n",
    "    x +=3"
   ]
  },
  {
   "cell_type": "code",
   "execution_count": null,
   "id": "5b978a56",
   "metadata": {},
   "outputs": [],
   "source": []
  }
 ],
 "metadata": {
  "kernelspec": {
   "display_name": "Python 3 (ipykernel)",
   "language": "python",
   "name": "python3"
  },
  "language_info": {
   "codemirror_mode": {
    "name": "ipython",
    "version": 3
   },
   "file_extension": ".py",
   "mimetype": "text/x-python",
   "name": "python",
   "nbconvert_exporter": "python",
   "pygments_lexer": "ipython3",
   "version": "3.10.2"
  }
 },
 "nbformat": 4,
 "nbformat_minor": 5
}
