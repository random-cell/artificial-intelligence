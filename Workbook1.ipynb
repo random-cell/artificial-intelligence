{
 "cells": [
  {
   "cell_type": "markdown",
   "id": "aa4a0707",
   "metadata": {},
   "source": [
    "# 1.1.Типы данных"
   ]
  },
  {
   "cell_type": "markdown",
   "id": "5b05db97",
   "metadata": {},
   "source": [
    "## 1.2 Пример **1**"
   ]
  },
  {
   "cell_type": "code",
   "execution_count": 1,
   "id": "72348e08",
   "metadata": {
    "scrolled": false
   },
   "outputs": [
    {
     "name": "stdout",
     "output_type": "stream",
     "text": [
      "39.4 | <class 'float'> \n",
      " None | <class 'NoneType'> \n",
      " ('a', 5, 12.345, (2, 'b')) | <class 'tuple'> \n",
      " [['Антонова Антонина', 34, 'Ж'], ['Борисов Борис', 26, 'М']] | <class 'list'> \n",
      " {1, 2, 'title', 'content'} | <class 'set'>\n"
     ]
    }
   ],
   "source": [
    "x = 3+5.2*7\n",
    "y = None \n",
    "z = 'a', 5, 12.345,(2,'b')\n",
    "df = [['Антонова Антонина', 34, 'Ж'],['Борисов Борис',26, 'М']]\n",
    "A = {1, 'title', 2, 'content'}\n",
    "\n",
    "#Решение\n",
    "print(x,'|', type(x), '\\n', y,'|', type(y), '\\n',\n",
    "     z, '|',type(z), '\\n', df,'|', type(df), '\\n', A, '|', type(A))"
   ]
  },
  {
   "cell_type": "markdown",
   "id": "3ddc8ec6",
   "metadata": {},
   "source": [
    "## 1.3 Задание  "
   ]
  },
  {
   "cell_type": "code",
   "execution_count": 2,
   "id": "8cac9a09",
   "metadata": {},
   "outputs": [
    {
     "name": "stdout",
     "output_type": "stream",
     "text": [
      "True | <class 'bool'> \n",
      " {8, 1, 3, 7} | <class 'set'> \n",
      " {'apple', 2, 4, 5, 10} | <class 'set'> \n",
      " set() | <class 'set'> \n",
      " ('Антонова Антонина', 34, 'Ж') | <class 'tuple'> \n",
      " type | <class 'str'> \n",
      " [1, 'title', 2, 'content'] | <class 'list'>\n"
     ]
    }
   ],
   "source": [
    "X = 5 >=2\n",
    "A = {1,3,7,8}\n",
    "B = {2,4,5,10, 'apple'}\n",
    "C = A & B\n",
    "df = 'Антонова Антонина', 34, 'Ж'\n",
    "Z = 'type'\n",
    "D = [1,'title',2,'content']\n",
    "\n",
    "#Решение\n",
    "print(X,'|', type(X), '\\n', A,'|', type(A), '\\n',\n",
    "     B, '|',type(B), '\\n', C,'|', type(C), '\\n', df, '|', type(df), \n",
    "      '\\n', Z,'|', type(Z), '\\n', D,'|', type(D))\n"
   ]
  },
  {
   "cell_type": "markdown",
   "id": "2c4760d5",
   "metadata": {},
   "source": [
    "# 2.1 Условный оператор  "
   ]
  },
  {
   "cell_type": "markdown",
   "id": "6233c8d9",
   "metadata": {},
   "source": [
    "## 2.2 Пример \n",
    "\n",
    "Вывести на экран является ли переменная х положительной, отрицательной или равна нулю."
   ]
  },
  {
   "cell_type": "code",
   "execution_count": 4,
   "id": "d0a51474",
   "metadata": {},
   "outputs": [
    {
     "name": "stdout",
     "output_type": "stream",
     "text": [
      "x положительный\n"
     ]
    }
   ],
   "source": [
    "x = 125\n",
    "if x < 0 : \n",
    "    print(\"x отрицательный\")\n",
    "elif x == 0:\n",
    "    print(\"x равен нулю\")\n",
    "else:\n",
    "    print(\"x положительный\")"
   ]
  },
  {
   "cell_type": "markdown",
   "id": "2235cdf0",
   "metadata": {},
   "source": [
    "## 2.3 Задание \n",
    "\n",
    "Напишите код. Задается х, напечатать какому из интервалов\n",
    "принадлежит: (-infinity, -5), [-5, 5] или от (5, +infinity)"
   ]
  },
  {
   "cell_type": "code",
   "execution_count": 8,
   "id": "db131983",
   "metadata": {},
   "outputs": [
    {
     "name": "stdout",
     "output_type": "stream",
     "text": [
      "-Infinity, -5\n"
     ]
    }
   ],
   "source": [
    "x = -7\n",
    "if (x <= -5):\n",
    "    print(\"-Infinity, -5\")\n",
    "elif (x>= -5) & (x <=5):\n",
    "    print(\"[\"\"-5,5\"\"]\")\n",
    "else:\n",
    "    print( \"(\"\"5, +infinity\"\")\")"
   ]
  },
  {
   "cell_type": "markdown",
   "id": "9c76c07a",
   "metadata": {},
   "source": [
    "# 3.1 Циклы, массивы, срезы"
   ]
  },
  {
   "cell_type": "markdown",
   "id": "66a6cf06",
   "metadata": {},
   "source": [
    "## 3.2.1 Пример \n",
    "\n",
    "Вывести все числа от 1 до 10 с шагом 3"
   ]
  },
  {
   "cell_type": "code",
   "execution_count": 9,
   "id": "c40a537f",
   "metadata": {},
   "outputs": [
    {
     "name": "stdout",
     "output_type": "stream",
     "text": [
      "1\n",
      "4\n",
      "7\n",
      "10\n"
     ]
    }
   ],
   "source": [
    "x = 1\n",
    "while x <= 10:\n",
    "    print(x)\n",
    "    x +=3"
   ]
  },
  {
   "cell_type": "markdown",
   "id": "ed5703c6",
   "metadata": {},
   "source": [
    "## 3.2.2 Пример\n",
    "\n",
    "Задан список. Напечатать все элементы списка."
   ]
  },
  {
   "cell_type": "code",
   "execution_count": 10,
   "id": "bdc975c5",
   "metadata": {},
   "outputs": [
    {
     "name": "stdout",
     "output_type": "stream",
     "text": [
      "KNN\n",
      "decision tree\n",
      "linear model\n"
     ]
    }
   ],
   "source": [
    "models = ['KNN', 'decision tree', 'linear model']\n",
    "for model in models:\n",
    "    print(model)"
   ]
  },
  {
   "cell_type": "markdown",
   "id": "86153393",
   "metadata": {},
   "source": [
    "## 3.2.3 Пример\n",
    "\n",
    "Создать список от 1 до 99 с шагом 7."
   ]
  },
  {
   "cell_type": "code",
   "execution_count": 11,
   "id": "cede4494",
   "metadata": {},
   "outputs": [
    {
     "name": "stdout",
     "output_type": "stream",
     "text": [
      "[1, 8, 15, 22, 29, 36, 43, 50, 57, 64, 71, 78, 85, 92, 99]\n"
     ]
    }
   ],
   "source": [
    "list_int = range(1,100,7)\n",
    "print(list(list_int))"
   ]
  },
  {
   "cell_type": "markdown",
   "id": "b2a2d8ca",
   "metadata": {},
   "source": [
    "## 3.2.4 Пример\n",
    "\n",
    "Вывести на экран числа от 1 до 105 с шагом 25, используя функцию\n",
    "range()"
   ]
  },
  {
   "cell_type": "code",
   "execution_count": 12,
   "id": "56cc373f",
   "metadata": {},
   "outputs": [
    {
     "name": "stdout",
     "output_type": "stream",
     "text": [
      "5\n",
      "30\n",
      "55\n",
      "80\n",
      "105\n"
     ]
    }
   ],
   "source": [
    "for i in range(5,106,25):\n",
    "    print(i)"
   ]
  },
  {
   "cell_type": "markdown",
   "id": "d0033d64",
   "metadata": {},
   "source": [
    "## 3.2.5 Пример\n",
    "\n",
    "Срез. Необходимо получить каждый k-й элемент массива a, начиная с элемента с индексом i (включительно) и заканчивая элементом с индексом j (не включительно), c шагом 2. Или переставить все элементы в обратном порядке."
   ]
  },
  {
   "cell_type": "code",
   "execution_count": 19,
   "id": "28cbd246",
   "metadata": {},
   "outputs": [
    {
     "name": "stdout",
     "output_type": "stream",
     "text": [
      "[2, 4, 6]\n",
      "[9, 8, 7, 6, 5, 4, 3, 2, 1]\n"
     ]
    }
   ],
   "source": [
    "a = [1,2,3,4,5,6,7,8,9]\n",
    "b = a[1:7:2]\n",
    "c = a[::-1]\n",
    "print(b)\n",
    "print(c)"
   ]
  },
  {
   "cell_type": "markdown",
   "id": "07ed5e50",
   "metadata": {},
   "source": [
    "## 3.3.1 Задание\n",
    "\n",
    "Выведите числа из примера на while (3.2.1) в обратном порядке."
   ]
  },
  {
   "cell_type": "code",
   "execution_count": 27,
   "id": "41a4030b",
   "metadata": {},
   "outputs": [
    {
     "name": "stdout",
     "output_type": "stream",
     "text": [
      "10\n",
      "7\n",
      "4\n",
      "1\n"
     ]
    }
   ],
   "source": [
    "x = 10\n",
    "while x >= 1:\n",
    "    print(x)\n",
    "    x -= 3"
   ]
  },
  {
   "cell_type": "markdown",
   "id": "93854f95",
   "metadata": {},
   "source": [
    "## 3.3.2 Задание\n",
    "\n",
    "При решении задач машинного обучения часто в качестве объектов исследования выступает человек. Создайте список значимых характеристик (признаков), идентифицирующих человека. Выведите список на экран."
   ]
  },
  {
   "cell_type": "code",
   "execution_count": 14,
   "id": "8b3fdb50",
   "metadata": {},
   "outputs": [
    {
     "name": "stdout",
     "output_type": "stream",
     "text": [
      "имя\n",
      "рост\n",
      "возраст\n",
      "пол\n"
     ]
    }
   ],
   "source": [
    "x = ['имя', 'рост', 'возраст' , 'пол']\n",
    "for i in x: \n",
    "    print(i)"
   ]
  },
  {
   "cell_type": "markdown",
   "id": "04027084",
   "metadata": {},
   "source": [
    "## 3.3.3 Задание\n",
    "\n",
    "Создать список чисел от 2 до 15 с шагом 1."
   ]
  },
  {
   "cell_type": "code",
   "execution_count": 35,
   "id": "5cfb168d",
   "metadata": {},
   "outputs": [
    {
     "name": "stdout",
     "output_type": "stream",
     "text": [
      "[2, 3, 4, 5, 6, 7, 8, 9, 10, 11, 12, 13, 14, 15]\n"
     ]
    }
   ],
   "source": [
    "list_ = range(2,16,1)\n",
    "print(list(list_))"
   ]
  },
  {
   "cell_type": "markdown",
   "id": "cd2f87ae",
   "metadata": {},
   "source": [
    "## 3.3.4 Задание\n",
    "\n",
    "Выведите числа из примера на for c функцией range() (3.2.4) в обратном порядке."
   ]
  },
  {
   "cell_type": "code",
   "execution_count": 38,
   "id": "4b091af2",
   "metadata": {},
   "outputs": [
    {
     "name": "stdout",
     "output_type": "stream",
     "text": [
      "105\n",
      "80\n",
      "55\n",
      "30\n",
      "5\n"
     ]
    }
   ],
   "source": [
    "for i in range(105,4,-25):\n",
    "    print(i)"
   ]
  },
  {
   "cell_type": "markdown",
   "id": "e012237d",
   "metadata": {},
   "source": [
    "## 3.3.5 Задание \n",
    "\n",
    "Срез. Напишите код, который все элементы массива x с четными индексами переставит в обратном порядке. \n",
    "Т.е. если x = [0, 1, 2, 3, 4,5, 6, 7, 8, 9], то код должен сформировать [8, 1, 6, 3, 4, 5, 2, 7, 0, 9]."
   ]
  },
  {
   "cell_type": "code",
   "execution_count": 23,
   "id": "2164f809",
   "metadata": {},
   "outputs": [
    {
     "name": "stdout",
     "output_type": "stream",
     "text": [
      "[8, 1, 6, 3, 4, 5, 2, 7, 0, 9]\n"
     ]
    }
   ],
   "source": [
    "x = [0, 1, 2, 3, 4, 5, 6, 7, 8, 9] \n",
    "x[0::2] = reversed(x[0::2])\n",
    "print(x)\n"
   ]
  },
  {
   "cell_type": "markdown",
   "id": "9c5ff9d1",
   "metadata": {},
   "source": [
    "# Библиотеки"
   ]
  },
  {
   "cell_type": "markdown",
   "id": "b65baa5f",
   "metadata": {},
   "source": [
    "## 4.2.1 Пример\n",
    "\n",
    "Рассчитать синус от е радиан и вывести результат на экран"
   ]
  },
  {
   "cell_type": "code",
   "execution_count": 75,
   "id": "f977f7e3",
   "metadata": {},
   "outputs": [
    {
     "name": "stdout",
     "output_type": "stream",
     "text": [
      "0.4107812905029088\n"
     ]
    }
   ],
   "source": [
    "import math as m\n",
    "print (m.sin (m.e))"
   ]
  },
  {
   "cell_type": "markdown",
   "id": "a6f87ce8",
   "metadata": {},
   "source": [
    "## 4.2.2 Пример\n",
    "\n",
    "Для функции sin(𝑥𝑒cos(𝑥)) на интервале [0;10] с шагом 0,05 построить график функции, закрасить площадь под ним и вычислить значение этой площади.\n",
    "Для вычисления площади воспользуйте функции trapz(), вычисляющей интеграл по правилу трапеции. Для ее корректной работы необходимо подключить следующие библиотеки:\n",
    "from scipy.integrate import simps from numpy import trapz"
   ]
  },
  {
   "cell_type": "code",
   "execution_count": 4,
   "id": "d58df172",
   "metadata": {},
   "outputs": [
    {
     "name": "stdout",
     "output_type": "stream",
     "text": [
      "73.50792907748662\n"
     ]
    },
    {
     "data": {
      "image/png": "[encoded data removed]",
      "text/plain": [
       "<Figure size 432x288 with 1 Axes>"
      ]
     },
     "metadata": {
      "needs_background": "light"
     },
     "output_type": "display_data"
    }
   ],
   "source": [
    "import numpy as np \n",
    "import matplotlib.pyplot as plt\n",
    "from numpy import trapz\n",
    "x = np.arange(0.0, 10, 0.1)\n",
    "y = np.abs(np.sin(x*np.exp(np.cos(x))))\n",
    "plt.grid()\n",
    "plt.plot(x,y,c = \"r\")\n",
    "plt.fill_between(x,y)\n",
    "area = trapz(y)\n",
    "print(area)"
   ]
  },
  {
   "cell_type": "markdown",
   "id": "f0dc986b",
   "metadata": {},
   "source": [
    "## 4.2.3 Пример\n",
    "\n",
    "Дано некоторое распределение оценок в группе за экзамен. Нарисовать\n",
    "круговую и точечную диаграммы распределения."
   ]
  },
  {
   "cell_type": "code",
   "execution_count": 47,
   "id": "25198317",
   "metadata": {
    "scrolled": false
   },
   "outputs": [
    {
     "data": {
      "image/png": "[encoded data removed]",
      "text/plain": [
       "<Figure size 720x504 with 1 Axes>"
      ]
     },
     "metadata": {},
     "output_type": "display_data"
    },
    {
     "data": {
      "text/plain": [
       "<matplotlib.collections.PathCollection at 0x1164d0370>"
      ]
     },
     "execution_count": 47,
     "metadata": {},
     "output_type": "execute_result"
    },
    {
     "data": {
      "image/png": "[encoded data removed]",
      "text/plain": [
       "<Figure size 432x288 with 1 Axes>"
      ]
     },
     "metadata": {
      "needs_background": "light"
     },
     "output_type": "display_data"
    }
   ],
   "source": [
    "from matplotlib import pyplot as plt\n",
    "import numpy as np \n",
    "\n",
    "marks = ['Неуд','Удовл','Хор','Отл']\n",
    "\n",
    "data = [3,7,8,4]\n",
    "fig = plt.figure(figsize =(10,7))\n",
    "plt.pie(data, labels = marks)\n",
    "plt.show()\n",
    "plt.grid()\n",
    "plt.scatter (marks,data)\n"
   ]
  },
  {
   "cell_type": "markdown",
   "id": "974fe5cf",
   "metadata": {},
   "source": [
    "## 4.3.1 Задание \n",
    "\n",
    "Задайте массив случайных значений из интервала(0; 1).\n",
    "Рассчитайте средние и медианные значения для массива, сравните результаты, какие выводы можно сделать о значениях?\n",
    "Постройте точечную диаграмму рассения полученного ряда."
   ]
  },
  {
   "cell_type": "code",
   "execution_count": 141,
   "id": "0ee33a4f",
   "metadata": {},
   "outputs": [
    {
     "name": "stdout",
     "output_type": "stream",
     "text": [
      "[0.65, 0.02, 0.48, 0.19]\n",
      "average 0.0\n"
     ]
    }
   ],
   "source": [
    "#pas termine \n",
    "\n",
    "from matplotlib import pyplot as plt\n",
    "import numpy as np  \n",
    "import random \n",
    "\n",
    "#tab = [random.randint(0,5) for i in range(4)]\n",
    "tab = [round(random.uniform(0, 1),2) for i in range(4)]\n",
    "print(tab)\n",
    "for i in tab:\n",
    "    i += i \n",
    "moy = float(i)//len(tab)\n",
    "print(\"average\",float(moy))\n"
   ]
  },
  {
   "cell_type": "markdown",
   "id": "b893e597",
   "metadata": {},
   "source": [
    "## 4.3.2 Задание\n",
    "\n",
    "\n",
    "Дана функция $\\frac{\\sqrt{1 + e^{\\sqrt{x}} + \\cos{x^2}}} {|1 - \\sin^3{x}|}$; Создатьмассивиз 10 значений\n",
    "функции (𝑥, например, изменяется от 1 до 10). Выделить срез первой половины массива и построить графики для основного массива – линейный и для среза – точечный"
   ]
  },
  {
   "cell_type": "code",
   "execution_count": 16,
   "id": "9bdff280",
   "metadata": {},
   "outputs": [
    {
     "data": {
      "image/png": "[encoded data removed]",
      "text/plain": [
       "<Figure size 432x288 with 1 Axes>"
      ]
     },
     "metadata": {
      "needs_background": "light"
     },
     "output_type": "display_data"
    },
    {
     "data": {
      "image/png": "[encoded data removed]",
      "text/plain": [
       "<Figure size 432x288 with 1 Axes>"
      ]
     },
     "metadata": {
      "needs_background": "light"
     },
     "output_type": "display_data"
    }
   ],
   "source": [
    "import numpy as np\n",
    "\n",
    "def func(x):\n",
    "    return np.sqrt(1 + np.exp(np.sqrt(x)) + np.cos(x**2)) / np.abs(1 - np.sin(x) ** 3) + np.log(np.abs(2*x))\n",
    "\n",
    "x = np.arange(1, 11, 1)\n",
    "y = func(x)\n",
    "first_half = y[:len(y)//2]\n",
    "plt.grid()\n",
    "plt.plot(x, y)\n",
    "plt.show()\n",
    "plt.grid()\n",
    "plt.scatter(x[:len(first_half)], first_half)\n",
    "plt.show()\n"
   ]
  },
  {
   "cell_type": "markdown",
   "id": "c64b860e",
   "metadata": {},
   "source": [
    "## 4.3.3 Задание\n",
    "\n",
    "Дана функция |cos(𝑥𝑒(cos(𝑥)+ln(𝑥+1)))| Построить график на интервале (0,10) с шагом 1 с заливкой площади и найти эту площадь под ним. Для вычисления площади воспользуйте функции trapz(), вычисляющей интеграл по правилу трапеции.\n",
    "Для ее корректной работы необходимо подключить следующие библиотеки:\n",
    "from scipy.integrate import simps from numpy import trapz"
   ]
  },
  {
   "cell_type": "code",
   "execution_count": 17,
   "id": "a2dac9dc",
   "metadata": {},
   "outputs": [
    {
     "name": "stdout",
     "output_type": "stream",
     "text": [
      "6.748183214657733\n"
     ]
    },
    {
     "data": {
      "image/png": "[encoded data removed]",
      "text/plain": [
       "<Figure size 432x288 with 1 Axes>"
      ]
     },
     "metadata": {
      "needs_background": "light"
     },
     "output_type": "display_data"
    }
   ],
   "source": [
    "import numpy as np \n",
    "import matplotlib.pyplot as plt\n",
    "from numpy import trapz\n",
    "x = [i for i in range(0,11)]\n",
    "y = [np.abs(np.cos(i*np.exp(np.cos(i) + np.log(i + 1)))) for i in range(0,11)]\n",
    "plt.grid()\n",
    "plt.plot(x,y)\n",
    "plt.fill_between(x,y)\n",
    "area = trapz(y)\n",
    "print(area)\n"
   ]
  },
  {
   "cell_type": "markdown",
   "id": "794b148f",
   "metadata": {},
   "source": [
    "## 4.3.4 Задание\n",
    "\n",
    "Откройте статистические данные по стоимости акций Apple, Microsoft, Google за 12 месяцев 2021 г. Постройте 3 графика на плоскости и оцените их динамику. Подумайте, как можно улучшить читаемость результатов.\n",
    "Для начальных данных допустимо использовать следующий ресурс: https://finance.yahoo.com"
   ]
  },
  {
   "cell_type": "code",
   "execution_count": 10,
   "id": "3da41b2a",
   "metadata": {},
   "outputs": [
    {
     "name": "stdout",
     "output_type": "stream",
     "text": [
      "Collecting yfinance\n",
      "  Downloading yfinance-0.2.12-py2.py3-none-any.whl (59 kB)\n",
      "\u001b[2K     \u001b[90m━━━━━━━━━━━━━━━━━━━━━━━━━━━━━━━━━━━━━━━\u001b[0m \u001b[32m59.2/59.2 kB\u001b[0m \u001b[31m474.5 kB/s\u001b[0m eta \u001b[36m0:00:00\u001b[0ma \u001b[36m0:00:01\u001b[0m\n",
      "\u001b[?25hCollecting html5lib>=1.1\n",
      "  Downloading html5lib-1.1-py2.py3-none-any.whl (112 kB)\n",
      "\u001b[2K     \u001b[90m━━━━━━━━━━━━━━━━━━━━━━━━━━━━━━━━━━━━━\u001b[0m \u001b[32m112.2/112.2 kB\u001b[0m \u001b[31m750.8 kB/s\u001b[0m eta \u001b[36m0:00:00\u001b[0ma \u001b[36m0:00:01\u001b[0m\n",
      "\u001b[?25hRequirement already satisfied: requests>=2.26 in /Library/Frameworks/Python.framework/Versions/3.10/lib/python3.10/site-packages (from yfinance) (2.28.1)\n",
      "Requirement already satisfied: beautifulsoup4>=4.11.1 in /Library/Frameworks/Python.framework/Versions/3.10/lib/python3.10/site-packages (from yfinance) (4.11.2)\n",
      "Requirement already satisfied: pandas>=1.3.0 in /Library/Frameworks/Python.framework/Versions/3.10/lib/python3.10/site-packages (from yfinance) (1.5.1)\n",
      "Collecting frozendict>=2.3.4\n",
      "  Downloading frozendict-2.3.5-cp310-cp310-macosx_10_9_x86_64.whl (34 kB)\n",
      "Requirement already satisfied: numpy>=1.16.5 in /Library/Frameworks/Python.framework/Versions/3.10/lib/python3.10/site-packages (from yfinance) (1.23.4)\n",
      "Collecting multitasking>=0.0.7\n",
      "  Downloading multitasking-0.0.11-py3-none-any.whl (8.5 kB)\n",
      "Requirement already satisfied: pytz>=2022.5 in /Library/Frameworks/Python.framework/Versions/3.10/lib/python3.10/site-packages (from yfinance) (2022.5)\n",
      "Collecting appdirs>=1.4.4\n",
      "  Downloading appdirs-1.4.4-py2.py3-none-any.whl (9.6 kB)\n",
      "Collecting lxml>=4.9.1\n",
      "  Downloading lxml-4.9.2-cp310-cp310-macosx_10_15_x86_64.whl (4.7 MB)\n",
      "\u001b[2K     \u001b[90m━━━━━━━━━━━━━━━━━━━━━━━━━━━━━━━━━━━━━━━━\u001b[0m \u001b[32m4.7/4.7 MB\u001b[0m \u001b[31m1.9 MB/s\u001b[0m eta \u001b[36m0:00:00\u001b[0m00:01\u001b[0m00:01\u001b[0m\n",
      "\u001b[?25hCollecting cryptography>=3.3.2\n",
      "  Downloading cryptography-39.0.2-cp36-abi3-macosx_10_12_x86_64.whl (2.9 MB)\n",
      "\u001b[2K     \u001b[90m━━━━━━━━━━━━━━━━━━━━━━━━━━━━━━━━━━━━━━━━\u001b[0m \u001b[32m2.9/2.9 MB\u001b[0m \u001b[31m2.2 MB/s\u001b[0m eta \u001b[36m0:00:00\u001b[0m00:01\u001b[0m00:01\u001b[0m\n",
      "\u001b[?25hRequirement already satisfied: soupsieve>1.2 in /Library/Frameworks/Python.framework/Versions/3.10/lib/python3.10/site-packages (from beautifulsoup4>=4.11.1->yfinance) (2.3.2.post1)\n",
      "Requirement already satisfied: cffi>=1.12 in /Library/Frameworks/Python.framework/Versions/3.10/lib/python3.10/site-packages (from cryptography>=3.3.2->yfinance) (1.15.1)\n",
      "Requirement already satisfied: webencodings in /Library/Frameworks/Python.framework/Versions/3.10/lib/python3.10/site-packages (from html5lib>=1.1->yfinance) (0.5.1)\n",
      "Requirement already satisfied: six>=1.9 in /Library/Frameworks/Python.framework/Versions/3.10/lib/python3.10/site-packages (from html5lib>=1.1->yfinance) (1.16.0)\n",
      "Requirement already satisfied: python-dateutil>=2.8.1 in /Library/Frameworks/Python.framework/Versions/3.10/lib/python3.10/site-packages (from pandas>=1.3.0->yfinance) (2.8.2)\n",
      "Requirement already satisfied: charset-normalizer<3,>=2 in /Library/Frameworks/Python.framework/Versions/3.10/lib/python3.10/site-packages (from requests>=2.26->yfinance) (2.1.1)\n",
      "Requirement already satisfied: urllib3<1.27,>=1.21.1 in /Library/Frameworks/Python.framework/Versions/3.10/lib/python3.10/site-packages (from requests>=2.26->yfinance) (1.26.12)\n",
      "Requirement already satisfied: idna<4,>=2.5 in /Library/Frameworks/Python.framework/Versions/3.10/lib/python3.10/site-packages (from requests>=2.26->yfinance) (3.4)\n",
      "Requirement already satisfied: certifi>=2017.4.17 in /Library/Frameworks/Python.framework/Versions/3.10/lib/python3.10/site-packages (from requests>=2.26->yfinance) (2022.9.24)\n",
      "Requirement already satisfied: pycparser in /Library/Frameworks/Python.framework/Versions/3.10/lib/python3.10/site-packages (from cffi>=1.12->cryptography>=3.3.2->yfinance) (2.21)\n",
      "Installing collected packages: multitasking, appdirs, lxml, html5lib, frozendict, cryptography, yfinance\n",
      "Successfully installed appdirs-1.4.4 cryptography-39.0.2 frozendict-2.3.5 html5lib-1.1 lxml-4.9.2 multitasking-0.0.11 yfinance-0.2.12\n",
      "\n",
      "\u001b[1m[\u001b[0m\u001b[34;49mnotice\u001b[0m\u001b[1;39;49m]\u001b[0m\u001b[39;49m A new release of pip available: \u001b[0m\u001b[31;49m22.3.1\u001b[0m\u001b[39;49m -> \u001b[0m\u001b[32;49m23.0.1\u001b[0m\n",
      "\u001b[1m[\u001b[0m\u001b[34;49mnotice\u001b[0m\u001b[1;39;49m]\u001b[0m\u001b[39;49m To update, run: \u001b[0m\u001b[32;49mpip install --upgrade pip\u001b[0m\n",
      "Note: you may need to restart the kernel to use updated packages.\n"
     ]
    }
   ],
   "source": [
    "pip install yfinance"
   ]
  },
  {
   "cell_type": "code",
   "execution_count": 15,
   "id": "55847e6c",
   "metadata": {},
   "outputs": [
    {
     "name": "stdout",
     "output_type": "stream",
     "text": [
      "[*********************100%***********************]  3 of 3 completed\n",
      "Index(['AAPL', 'GOOGL', 'MSFT'], dtype='object')\n"
     ]
    },
    {
     "data": {
      "image/png": "[encoded data removed]",
      "text/plain": [
       "<Figure size 432x288 with 1 Axes>"
      ]
     },
     "metadata": {
      "needs_background": "light"
     },
     "output_type": "display_data"
    }
   ],
   "source": [
    "import yfinance as yf\n",
    "import numpy as np \n",
    "import matplotlib.pyplot as plt\n",
    "\n",
    "df = yf.download(\"AAPL GOOGL MSFT\", start=\"2021-01-01\", end=\"2022-01-01\") \n",
    "data = df[\"Open\"]\n",
    "print(data.columns)\n",
    "plt.plot(data)\n",
    "plt.legend(data.columns)\n",
    "plt.show()"
   ]
  },
  {
   "cell_type": "markdown",
   "id": "216cff6e",
   "metadata": {},
   "source": [
    "## 4.3.5 Задание\n",
    "\n",
    "Создайте простейший калькулятор, включающий основные действия для двух переменных ′+′,′−′,′∙′,′÷′, а также вычисление следующих функций: 𝑒𝑥+𝑦, sin(𝑥 + 𝑦) , cos(𝑥 + 𝑦) , 𝑥𝑦."
   ]
  },
  {
   "cell_type": "code",
   "execution_count": 3,
   "id": "cd9924b2",
   "metadata": {},
   "outputs": [
    {
     "name": "stdout",
     "output_type": "stream",
     "text": [
      "𝑒𝑥+𝑦 =  54.598150033144236\n",
      "sin(𝑥 + 𝑦) -0.7568024953079282\n",
      "cos(𝑥 + 𝑦) -0.6536436208636119\n",
      "x . y =  4\n",
      "x + y =  4\n",
      "x - y =  0\n",
      "x // y =  1\n"
     ]
    }
   ],
   "source": [
    "import math as m \n",
    " \n",
    "x = 2\n",
    "y = 2\n",
    "\n",
    "f1 = m.exp(x + y)\n",
    "f2 = m.sin(x + y)\n",
    "f3 = m.cos(x + y)\n",
    "\n",
    "print(\"𝑒𝑥+𝑦 = \",f1)\n",
    "print(\"sin(𝑥 + 𝑦)\",f2)\n",
    "print(\"cos(𝑥 + 𝑦)\",f3)\n",
    "print(\"x . y = \", x * y)\n",
    "\n",
    "print(\"x + y = \", x + y)\n",
    "print(\"x - y = \", x - y)\n",
    "print(\"x // y = \",x // y)\n"
   ]
  }
 ],
 "metadata": {
  "kernelspec": {
   "display_name": "Python 3 (ipykernel)",
   "language": "python",
   "name": "python3"
  },
  "language_info": {
   "codemirror_mode": {
    "name": "ipython",
    "version": 3
   },
   "file_extension": ".py",
   "mimetype": "text/x-python",
   "name": "python",
   "nbconvert_exporter": "python",
   "pygments_lexer": "ipython3",
   "version": "3.10.2"
  }
 },
 "nbformat": 4,
 "nbformat_minor": 5
}
